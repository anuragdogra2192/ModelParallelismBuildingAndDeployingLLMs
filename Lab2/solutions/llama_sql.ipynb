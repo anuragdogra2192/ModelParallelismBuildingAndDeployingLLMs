{
 "cells": [
  {
   "cell_type": "code",
   "execution_count": null,
   "metadata": {},
   "outputs": [],
   "source": [
    "input_ids = tokenizer.encode(\n",
    "    \"You are a powerful text-to-SQL model. Your job is to answer questions about a database. You are given a question regarding one or more tables. You must output the SQL query that answers the question. Input: Find all users that live in Califorian and have more than 1000 credits. Response: \", return_tensors=\"pt\").cuda(0)\n",
    "\n",
    "\n",
    "output = model.generate(input_ids=input_ids, max_length=100, num_return_sequences=1, num_beams=5, temperature=0.7, repetition_penalty=3.0, pad_token_id=tokenizer.eos_token_id)\n",
    "sentence = output[0].tolist()\n",
    "text = tokenizer.decode(sentence, clean_up_tokenization_spaces=True)\n",
    "print(text)"
   ]
  }
 ],
 "metadata": {
  "language_info": {
   "name": "python"
  }
 },
 "nbformat": 4,
 "nbformat_minor": 2
}
